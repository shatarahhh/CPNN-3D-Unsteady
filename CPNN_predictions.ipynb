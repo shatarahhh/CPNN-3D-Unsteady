{
 "cells": [
  {
   "cell_type": "markdown",
   "id": "5cd30239",
   "metadata": {},
   "source": [
    "# 3‑D Unsteady CPNN prediction of particulate matter transport: Hydrodynamic separator case study"
   ]
  },
  {
   "cell_type": "code",
   "execution_count": 5,
   "id": "4ffd07eb",
   "metadata": {},
   "outputs": [],
   "source": [
    "import json, pathlib, pickle\n",
    "from functools import lru_cache\n",
    "from collections import OrderedDict\n",
    "\n",
    "import numpy as np\n",
    "import torch\n",
    "import torch.nn as nn\n",
    "\n",
    "import pyvista as pv\n",
    "from matplotlib.colors import LinearSegmentedColormap\n",
    "\n",
    "import ipywidgets as wd\n",
    "from ipywidgets import FloatSlider, Play, HBox, VBox, Layout, Button\n",
    "\n",
    "import matplotlib.pyplot as plt\n",
    "import ipywidgets as wd\n",
    "from IPython.display import display, clear_output\n",
    "\n",
    "import warnings\n",
    "from sklearn.exceptions import InconsistentVersionWarning\n",
    "warnings.filterwarnings(\"ignore\", category=InconsistentVersionWarning)\n",
    "\n",
    "device = \"cpu\"\n",
    "plt.rcParams.update({\n",
    "    \"text.usetex\": True,\n",
    "    \"font.family\": \"serif\",\n",
    "    \"font.serif\": [\"Times New Roman\"],\n",
    "    \"font.size\": 14,\n",
    "})\n",
    "\n",
    "HTML(\"\"\"<style>\n",
    ".widget-label    { font-size: 14px !important; }\n",
    ".widget-readout  { font-size: 14px !important; }\n",
    "</style>\"\"\")"
   ]
  },
  {
   "cell_type": "code",
   "execution_count": 6,
   "id": "c08bf2c0",
   "metadata": {},
   "outputs": [],
   "source": [
    "@torch.no_grad()\n",
    "def _predict_scaled(u_s, t_s):\n",
    "    u_t = torch.as_tensor(u_s, dtype=torch.float32, device=device) \\\n",
    "           .view(1,1,1,1,5).expand(-1,-1,-1,N,-1)\n",
    "    t_t = torch.as_tensor(t_s, dtype=torch.float32, device=device) \\\n",
    "           .view(1,1,1,1,1).expand_as(u_t[..., :1])\n",
    "\n",
    "    out = model(u_t, torch.zeros_like(t_t), t_t, y_tensor).squeeze()\n",
    "    return (out * s_scaler.scale_[0] + s_scaler.mean_[0]).clamp_min_(0).cpu().numpy()\n",
    "\n",
    "def predict_field(params, t):\n",
    "    return _predict_scaled(u_scaler.transform([params]).astype(np.float32),\n",
    "                           t_scaler.transform([[t]]).astype(np.float32))\n",
    "\n",
    "@lru_cache(maxsize=2, typed=True)\n",
    "def case_limits(params):\n",
    "    times = np.arange(TIME_MIN, TIME_MAX, TIME_STEP, dtype=np.float32)\n",
    "    u_s   = u_scaler.transform([params]).astype(np.float32)\n",
    "    vals  = np.stack([_predict_scaled(u_s,\n",
    "                                      t_scaler.transform([[tt]]).astype(np.float32))\n",
    "                      for tt in times])\n",
    "    return dict(c_min=float(vals.min()), c_max=float(vals.max()))\n",
    "\n",
    "def make_slider(label, lo, hi, start, div=50):\n",
    "    step = (hi - lo) / div\n",
    "    return FloatSlider(value=start, min=lo, max=hi, step=step,\n",
    "                       description=label, continuous_update=False,\n",
    "                       readout_format='.4f', layout=Layout(width=\"320px\"))\n",
    "\n",
    "def refresh(_=None):\n",
    "    params = (sliders['λ'].value, sliders['k'].value, sliders['θ'].value,\n",
    "              sliders['C0'].value, sliders['kd'].value)\n",
    "    surf_half['c'] = predict_field(params, t_slider.value)\n",
    "    actor.mapper.scalar_range = tuple(case_limits(params).values())\n",
    "    pv_plotter.render()\n",
    "\n",
    "def reset(_=None):\n",
    "    for key, (_, _, start) in param_bounds.items():\n",
    "        sliders[key].value = start\n",
    "    t_slider.value = DEFAULT_t"
   ]
  },
  {
   "cell_type": "markdown",
   "id": "cd2ca3b2",
   "metadata": {},
   "source": [
    "# CPNN model\n"
   ]
  },
  {
   "cell_type": "code",
   "execution_count": 7,
   "id": "3b1425d3",
   "metadata": {},
   "outputs": [
    {
     "data": {
      "text/plain": [
       "CPNN(\n",
       "  (layers_trunk_coordinates): Sequential(\n",
       "    (layer_0): Linear(in_features=3, out_features=92, bias=True)\n",
       "    (act_0): Tanh()\n",
       "    (layer_1): Linear(in_features=92, out_features=92, bias=True)\n",
       "    (act_1): Tanh()\n",
       "  )\n",
       "  (layers_trunk_time): Sequential(\n",
       "    (layer_0): Linear(in_features=1, out_features=92, bias=True)\n",
       "    (act_0): Tanh()\n",
       "    (layer_1): Linear(in_features=92, out_features=92, bias=True)\n",
       "    (act_1): Tanh()\n",
       "  )\n",
       "  (layers_branch_loading): Sequential(\n",
       "    (layer_0): Linear(in_features=5, out_features=92, bias=True)\n",
       "    (act_0): Tanh()\n",
       "    (layer_1): Linear(in_features=92, out_features=92, bias=True)\n",
       "    (act_1): Tanh()\n",
       "  )\n",
       "  (layers_branch_concentration): Sequential(\n",
       "    (layer_0): Linear(in_features=1, out_features=92, bias=True)\n",
       "    (act_0): Tanh()\n",
       "    (layer_1): Linear(in_features=92, out_features=92, bias=True)\n",
       "    (act_1): Tanh()\n",
       "  )\n",
       "  (layers_fcnn): Sequential(\n",
       "    (layer_0): Linear(in_features=92, out_features=92, bias=True)\n",
       "    (act_0): Tanh()\n",
       "    (layer_1): Linear(in_features=92, out_features=92, bias=True)\n",
       "    (act_1): Tanh()\n",
       "    (layer_2): Linear(in_features=92, out_features=92, bias=True)\n",
       "    (act_2): Tanh()\n",
       "    (layer_3): Linear(in_features=92, out_features=92, bias=True)\n",
       "    (act_3): Tanh()\n",
       "    (layer_4): Linear(in_features=92, out_features=92, bias=True)\n",
       "    (act_4): Tanh()\n",
       "    (layer_5): Linear(in_features=92, out_features=1, bias=True)\n",
       "  )\n",
       ")"
      ]
     },
     "execution_count": 7,
     "metadata": {},
     "output_type": "execute_result"
    }
   ],
   "source": [
    "class CPNN(nn.Module):\n",
    "    def __init__(self, coord_cfg, time_cfg,\n",
    "                 branch_load_cfg, branch_c_cfg, fcnn_cfg):\n",
    "        super().__init__()\n",
    "        self.layers_trunk_coordinates    = self._stack(coord_cfg)\n",
    "        self.layers_trunk_time           = self._stack(time_cfg)\n",
    "        self.layers_branch_loading       = self._stack(branch_load_cfg)\n",
    "        self.layers_branch_concentration = self._stack(branch_c_cfg)\n",
    "        self.layers_fcnn                 = self._stack(fcnn_cfg, last=False)\n",
    "\n",
    "    def forward(self, u, c, t, y):\n",
    "        z = ( self.layers_trunk_coordinates(y)\n",
    "            * self.layers_trunk_time(t)\n",
    "            * self.layers_branch_loading(u) )\n",
    "        return self.layers_fcnn(z)\n",
    "\n",
    "    @staticmethod\n",
    "    def _stack(cfg, last=True):\n",
    "        layers = OrderedDict()\n",
    "        for i in range(len(cfg) - 1):\n",
    "            layers[f'layer_{i}'] = nn.Linear(cfg[i], cfg[i + 1])\n",
    "            if i < len(cfg) - 2 or last:\n",
    "                layers[f'act_{i}'] = nn.Tanh()\n",
    "        return nn.Sequential(layers)\n",
    "    \n",
    "best_layer = 92\n",
    "enc_layers = 2\n",
    "fcnn_layers = 6\n",
    "\n",
    "branch_load_cfg = [5] + [best_layer] * enc_layers\n",
    "branch_c_cfg    = [1] + [best_layer] * enc_layers\n",
    "time_cfg        = [1] + [best_layer] * enc_layers\n",
    "coord_cfg       = [3] + [best_layer] * enc_layers\n",
    "fcnn_cfg        = [best_layer] * fcnn_layers + [1]\n",
    "\n",
    "model = CPNN(coord_cfg, time_cfg,\n",
    "                 branch_load_cfg, branch_c_cfg,\n",
    "                 fcnn_cfg).to(device)\n",
    "\n",
    "model.load_state_dict(torch.load(\"trained_NN_parameters.pt\",\n",
    "                                 weights_only=True,\n",
    "                                 map_location=device))\n",
    "model.eval()"
   ]
  },
  {
   "cell_type": "markdown",
   "id": "c54dbb5d",
   "metadata": {},
   "source": [
    "# Inputs"
   ]
  },
  {
   "cell_type": "code",
   "execution_count": 8,
   "id": "07015355",
   "metadata": {},
   "outputs": [],
   "source": [
    "pv.set_jupyter_backend(\"client\")\n",
    "\n",
    "surf_half = (\n",
    "    pv.read(\"Mesh_internal.vtu\")\n",
    "      .clip(normal=(0, 0, 1), invert=True)\n",
    "      .extract_surface()\n",
    "      .triangulate()\n",
    ")\n",
    "coords = surf_half.points.astype(np.float32)\n",
    "N = coords.shape[0]\n",
    "\n",
    "with open(\"scalers/u_scaler.pkl\", \"rb\") as f: u_scaler = pickle.load(f)\n",
    "with open(\"scalers/t_scaler.pkl\", \"rb\") as f: t_scaler = pickle.load(f)\n",
    "with open(\"scalers/y_scaler.pkl\", \"rb\") as f: y_scaler = pickle.load(f)\n",
    "with open(\"scalers/s_scaler.pkl\", \"rb\") as f: s_scaler = pickle.load(f)\n",
    "\n",
    "y_tensor = torch.tensor(\n",
    "    y_scaler.transform(coords).reshape(1, 1, 1, N, 3),\n",
    "    dtype=torch.float32, device=device\n",
    ")\n",
    "\n",
    "TIME_MIN, TIME_MAX, TIME_STEP = 0, 60, 10\n",
    "DEFAULT_t = 10                                   "
   ]
  },
  {
   "cell_type": "markdown",
   "id": "4f61c49c",
   "metadata": {},
   "source": [
    "# Interactive plot (PyVista)"
   ]
  },
  {
   "cell_type": "code",
   "execution_count": 9,
   "id": "ef51c8d6",
   "metadata": {},
   "outputs": [
    {
     "data": {
      "application/vnd.jupyter.widget-view+json": {
       "model_id": "1c4ec19b83644a9b86f9475e83f4acd3",
       "version_major": 2,
       "version_minor": 0
      },
      "text/plain": [
       "Widget(value='<iframe src=\"http://localhost:58701/index.html?ui=P_0x2b123d91d30_0&reconnect=auto\" class=\"pyvis…"
      ]
     },
     "metadata": {},
     "output_type": "display_data"
    },
    {
     "data": {
      "application/vnd.jupyter.widget-view+json": {
       "model_id": "2350444a6fd349c7a78b6ff11c299e84",
       "version_major": 2,
       "version_minor": 0
      },
      "text/plain": [
       "VBox(children=(HBox(children=(FloatSlider(value=10.0, continuous_update=False, description='k', layout=Layout(…"
      ]
     },
     "metadata": {},
     "output_type": "display_data"
    }
   ],
   "source": [
    "param_bounds = {\n",
    "    'λ' : (1.1   , 8.3   , 1.887),\n",
    "    'k' : (0.23  , 51.5  , 10.   ),\n",
    "    'θ' : (0.0017, 0.2012, 0.14 ),\n",
    "    'C0': (0.1072, 3.6963, 1.319),\n",
    "    'kd': (0.5   , 1.0   , 0.788),\n",
    "}\n",
    "\n",
    "sliders = {name: make_slider(name, *vals) for name, vals in param_bounds.items()}\n",
    "\n",
    "t_slider = FloatSlider(value=DEFAULT_t, min=10, max=1800, step=10,\n",
    "                       description='t [s]', continuous_update=False,\n",
    "                       readout_format='.0f', layout=Layout(width='320px'))\n",
    "\n",
    "play = Play(interval=330, min=int(t_slider.min), max=int(t_slider.max),\n",
    "            value=int(t_slider.value), step=int(t_slider.step))\n",
    "wd.jslink((play, 'value'), (t_slider, 'value'))\n",
    "\n",
    "reset_btn = Button(description='Reset', button_style='info',\n",
    "                   icon='refresh', layout=Layout(width='80px'))\n",
    "\n",
    "pv_plotter = pv.Plotter(notebook=True, window_size=(960, 480))\n",
    "surf_half['c'] = np.zeros(N)\n",
    "\n",
    "with open(\"conc_cmap.pkl\", \"rb\") as f:\n",
    "    cmap, vmin, vmax = pickle.load(f)\n",
    "\n",
    "actor = pv_plotter.add_mesh(\n",
    "    surf_half, scalars='c', cmap=cmap, clim=[vmin, vmax],\n",
    "    smooth_shading=False, scalar_bar_args=dict(title=r\"PM Concentration (g/L)\",\n",
    "                                              vertical=True))\n",
    "\n",
    "                 \n",
    "\n",
    "pv_plotter.camera_position = [\n",
    "    (2.6980, 1.1347, 3.1959),\n",
    "    (1.46, -0.6, -0.3),\n",
    "    (-0.1901, 0.9008, -0.3903)]\n",
    "pv_plotter.show(auto_close=False)\n",
    "\n",
    "for w in list(sliders.values()) + [t_slider]:\n",
    "    w.observe(refresh, names='value')\n",
    "reset_btn.on_click(reset)\n",
    "\n",
    "refresh()\n",
    "display(VBox([\n",
    "    HBox([sliders['k'], sliders['θ'], sliders['λ']]),\n",
    "    HBox([t_slider, sliders['C0'], sliders['kd']]),\n",
    "    HBox([play, reset_btn]),\n",
    "]))\n"
   ]
  },
  {
   "cell_type": "markdown",
   "id": "91eee6b3",
   "metadata": {},
   "source": [
    "# Plot average outlet concentration during the storm event"
   ]
  },
  {
   "cell_type": "code",
   "execution_count": null,
   "id": "cc536cbe",
   "metadata": {},
   "outputs": [
    {
     "data": {
      "image/png": "[encoded data removed]",
      "text/plain": [
       "<Figure size 500x400 with 1 Axes>"
      ]
     },
     "metadata": {},
     "output_type": "display_data"
    }
   ],
   "source": [
    "def plot_avg_concentration():\n",
    "    x_coords    = surf_half.points[:, 0]\n",
    "    outlet_mask = (x_coords >= 2.3) & (x_coords <= x_coords.max())\n",
    "    params      = tuple(sliders[n].value for n in ('λ', 'k', 'θ', 'C0', 'kd'))\n",
    "\n",
    "    t_min   = np.arange(61, dtype=np.float32)          \n",
    "    avg_c   = np.empty_like(t_min, dtype=np.float32)\n",
    "\n",
    "    for i, t in enumerate(t_min * 60):                 \n",
    "        avg_c[i] = predict_field(params, float(t))[outlet_mask].mean()\n",
    "\n",
    "    plt.figure(figsize=(5, 4))\n",
    "    plt.plot(t_min, avg_c, lw=2)\n",
    "    plt.xlabel(r'Time (min)')\n",
    "    plt.ylabel(r'PM concentration, $c$ (g/L)')\n",
    "    plt.xlim(0, 60)\n",
    "    plt.grid(True)\n",
    "    plt.tight_layout()\n",
    "    plt.show()\n",
    "plot_avg_concentration()"
   ]
  }
 ],
 "metadata": {
  "kernelspec": {
   "display_name": ".venv",
   "language": "python",
   "name": "python3"
  },
  "language_info": {
   "codemirror_mode": {
    "name": "ipython",
    "version": 3
   },
   "file_extension": ".py",
   "mimetype": "text/x-python",
   "name": "python",
   "nbconvert_exporter": "python",
   "pygments_lexer": "ipython3",
   "version": "3.12.5"
  }
 },
 "nbformat": 4,
 "nbformat_minor": 5
}
